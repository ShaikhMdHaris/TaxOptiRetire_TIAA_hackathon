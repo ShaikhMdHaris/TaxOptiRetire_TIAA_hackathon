{
 "cells": [
  {
   "cell_type": "code",
   "execution_count": 1,
   "id": "95a23a0f",
   "metadata": {},
   "outputs": [],
   "source": [
    "import pandas as pd"
   ]
  },
  {
   "cell_type": "code",
   "execution_count": 2,
   "id": "66627f31",
   "metadata": {},
   "outputs": [],
   "source": [
    "import pandas as pd\n",
    "from sklearn.model_selection import train_test_split\n",
    "from sklearn.ensemble import RandomForestRegressor\n",
    "from sklearn.metrics import mean_squared_error"
   ]
  },
  {
   "cell_type": "code",
   "execution_count": 3,
   "id": "d4d35b25",
   "metadata": {},
   "outputs": [],
   "source": [
    "dataset = pd.read_csv('tax_optimization_dataset.csv')"
   ]
  },
  {
   "cell_type": "code",
   "execution_count": 4,
   "id": "88e7e220",
   "metadata": {},
   "outputs": [],
   "source": [
    "features = ['Annual_Income_Rupees', 'Deductions_Rupees', 'Retirement_Contributions_Rupees']\n",
    "target = 'Tax_Savings_Rupees'"
   ]
  },
  {
   "cell_type": "code",
   "execution_count": 5,
   "id": "4cb6a356",
   "metadata": {},
   "outputs": [],
   "source": [
    "X = dataset[features]\n",
    "y = dataset[target]"
   ]
  },
  {
   "cell_type": "code",
   "execution_count": 6,
   "id": "1895bff7",
   "metadata": {},
   "outputs": [],
   "source": [
    "X_train, X_test, y_train, y_test = train_test_split(X, y, test_size=0.2, random_state=42)"
   ]
  },
  {
   "cell_type": "code",
   "execution_count": 7,
   "id": "5b70980c",
   "metadata": {},
   "outputs": [
    {
     "data": {
      "text/plain": [
       "RandomForestRegressor()"
      ]
     },
     "execution_count": 7,
     "metadata": {},
     "output_type": "execute_result"
    }
   ],
   "source": [
    "model = RandomForestRegressor()\n",
    "model.fit(X_train, y_train)"
   ]
  },
  {
   "cell_type": "code",
   "execution_count": 8,
   "id": "fe8cc713",
   "metadata": {},
   "outputs": [],
   "source": [
    "predictions = model.predict(X_test)"
   ]
  },
  {
   "cell_type": "code",
   "execution_count": 9,
   "id": "2c058229",
   "metadata": {},
   "outputs": [
    {
     "name": "stdout",
     "output_type": "stream",
     "text": [
      "Mean Squared Error: 1476321.3018206735\n"
     ]
    }
   ],
   "source": [
    "mse = mean_squared_error(y_test, predictions)\n",
    "print(f'Mean Squared Error: {mse}')"
   ]
  },
  {
   "cell_type": "code",
   "execution_count": 10,
   "id": "8987ea74",
   "metadata": {},
   "outputs": [
    {
     "data": {
      "text/plain": [
       "['tax_optimization_model.pkl']"
      ]
     },
     "execution_count": 10,
     "metadata": {},
     "output_type": "execute_result"
    }
   ],
   "source": [
    "import joblib\n",
    "joblib.dump(model, 'tax_optimization_model.pkl')"
   ]
  },
  {
   "cell_type": "code",
   "execution_count": 11,
   "id": "d59700b4",
   "metadata": {},
   "outputs": [],
   "source": [
    "def get_user_input():\n",
    "    annual_income = float(input(\"Enter Annual Income in Rupees: \"))\n",
    "    deductions = float(input(\"Enter Deductions in Rupees: \"))\n",
    "    retirement_contributions = float(input(\"Enter Retirement Contributions in Rupees: \"))\n",
    "    return pd.DataFrame({\n",
    "        'Annual_Income_Rupees': [annual_income],\n",
    "        'Deductions_Rupees': [deductions],\n",
    "        'Retirement_Contributions_Rupees': [retirement_contributions]\n",
    "    })"
   ]
  },
  {
   "cell_type": "code",
   "execution_count": 12,
   "id": "340581ed",
   "metadata": {},
   "outputs": [
    {
     "name": "stdout",
     "output_type": "stream",
     "text": [
      "Enter Annual Income in Rupees: 80000\n",
      "Enter Deductions in Rupees: 25000\n",
      "Enter Retirement Contributions in Rupees: 10000\n"
     ]
    }
   ],
   "source": [
    "user_input = get_user_input()"
   ]
  },
  {
   "cell_type": "code",
   "execution_count": 13,
   "id": "24f1dce2",
   "metadata": {},
   "outputs": [],
   "source": [
    "predicted_tax_savings = model.predict(user_input)"
   ]
  },
  {
   "cell_type": "code",
   "execution_count": 14,
   "id": "1ed8e602",
   "metadata": {},
   "outputs": [
    {
     "name": "stdout",
     "output_type": "stream",
     "text": [
      "Predicted Tax Savings: 2908.1122576698667 Rupees\n"
     ]
    }
   ],
   "source": [
    "print(f'Predicted Tax Savings: {predicted_tax_savings[0]} Rupees')"
   ]
  },
  {
   "cell_type": "code",
   "execution_count": 15,
   "id": "b30076a3",
   "metadata": {},
   "outputs": [
    {
     "name": "stdout",
     "output_type": "stream",
     "text": [
      "Enter Annual Income in Rupees: 56000\n",
      "Enter Deductions in Rupees: 2300\n",
      "Enter Retirement Contributions in Rupees: 45000\n"
     ]
    }
   ],
   "source": [
    "user_input = get_user_input()"
   ]
  },
  {
   "cell_type": "code",
   "execution_count": null,
   "id": "a227bfc5",
   "metadata": {},
   "outputs": [],
   "source": []
  },
  {
   "cell_type": "code",
   "execution_count": 16,
   "id": "648876ed",
   "metadata": {},
   "outputs": [],
   "source": [
    "predicted_tax_savings = model.predict(user_input)"
   ]
  },
  {
   "cell_type": "code",
   "execution_count": 17,
   "id": "f06e8c08",
   "metadata": {},
   "outputs": [
    {
     "name": "stdout",
     "output_type": "stream",
     "text": [
      "Predicted Tax Savings: 3160.782623757979 Rupees\n"
     ]
    }
   ],
   "source": [
    "print(f'Predicted Tax Savings: {predicted_tax_savings[0]} Rupees')"
   ]
  },
  {
   "cell_type": "code",
   "execution_count": null,
   "id": "1cf82189",
   "metadata": {},
   "outputs": [],
   "source": []
  }
 ],
 "metadata": {
  "kernelspec": {
   "display_name": "Python 3 (ipykernel)",
   "language": "python",
   "name": "python3"
  },
  "language_info": {
   "codemirror_mode": {
    "name": "ipython",
    "version": 3
   },
   "file_extension": ".py",
   "mimetype": "text/x-python",
   "name": "python",
   "nbconvert_exporter": "python",
   "pygments_lexer": "ipython3",
   "version": "3.9.13"
  }
 },
 "nbformat": 4,
 "nbformat_minor": 5
}
