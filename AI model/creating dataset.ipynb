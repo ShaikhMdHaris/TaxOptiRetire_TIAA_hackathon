{
 "cells": [
  {
   "cell_type": "code",
   "execution_count": 1,
   "id": "76a8b2a8",
   "metadata": {},
   "outputs": [],
   "source": [
    "import pandas as pd"
   ]
  },
  {
   "cell_type": "code",
   "execution_count": 2,
   "id": "42acd983",
   "metadata": {},
   "outputs": [],
   "source": [
    "import numpy as np"
   ]
  },
  {
   "cell_type": "code",
   "execution_count": 3,
   "id": "e672fcc5",
   "metadata": {},
   "outputs": [],
   "source": [
    "def generate_random_data(size):\n",
    "    annual_income = np.random.uniform(40000, 100000, size)\n",
    "    deductions = np.random.uniform(5000, 20000, size)\n",
    "    retirement_contributions = np.random.uniform(0, 10000, size)\n",
    "    \n",
    "    # Placeholder: Generate a simple target variable (dummy variable)\n",
    "    tax_savings = np.random.uniform(1000, 5000, size)\n",
    "    \n",
    "    return pd.DataFrame({\n",
    "        'Annual_Income_Rupees': annual_income,\n",
    "        'Deductions_Rupees': deductions,\n",
    "        'Retirement_Contributions_Rupees': retirement_contributions,\n",
    "        'Tax_Savings_Rupees': tax_savings\n",
    "    })"
   ]
  },
  {
   "cell_type": "code",
   "execution_count": 4,
   "id": "8ff2b1e8",
   "metadata": {},
   "outputs": [],
   "source": [
    "dataset_size = 10000"
   ]
  },
  {
   "cell_type": "code",
   "execution_count": 5,
   "id": "246931cb",
   "metadata": {},
   "outputs": [],
   "source": [
    "dataset = generate_random_data(dataset_size)"
   ]
  },
  {
   "cell_type": "code",
   "execution_count": 6,
   "id": "8cf1bb0c",
   "metadata": {},
   "outputs": [],
   "source": [
    "dataset.to_csv('tax_optimization_dataset.csv', index=False)"
   ]
  },
  {
   "cell_type": "code",
   "execution_count": 7,
   "id": "f60eb729",
   "metadata": {},
   "outputs": [
    {
     "name": "stdout",
     "output_type": "stream",
     "text": [
      "   Annual_Income_Rupees  Deductions_Rupees  Retirement_Contributions_Rupees  \\\n",
      "0          54644.831369        8405.378092                      3826.316345   \n",
      "1          46571.510893       14536.098932                      5581.671125   \n",
      "2          90271.602724       14589.547882                      7781.417235   \n",
      "3          58962.364805       13239.730394                      5944.282358   \n",
      "4          84641.885524       10351.726278                      3038.775647   \n",
      "\n",
      "   Tax_Savings_Rupees  \n",
      "0         2848.384223  \n",
      "1         4350.526118  \n",
      "2         3482.307298  \n",
      "3         2720.649047  \n",
      "4         1593.541600  \n"
     ]
    }
   ],
   "source": [
    "print(dataset.head())"
   ]
  },
  {
   "cell_type": "code",
   "execution_count": 8,
   "id": "aed26a06",
   "metadata": {},
   "outputs": [
    {
     "name": "stdout",
     "output_type": "stream",
     "text": [
      "      Annual_Income_Rupees  Deductions_Rupees  \\\n",
      "0             54644.831369        8405.378092   \n",
      "1             46571.510893       14536.098932   \n",
      "2             90271.602724       14589.547882   \n",
      "3             58962.364805       13239.730394   \n",
      "4             84641.885524       10351.726278   \n",
      "...                    ...                ...   \n",
      "9995          86033.439790       14288.143965   \n",
      "9996          74825.140328       10706.995408   \n",
      "9997          80824.920513       19977.748357   \n",
      "9998          91449.975484       17570.189620   \n",
      "9999          41034.291599       13866.888809   \n",
      "\n",
      "      Retirement_Contributions_Rupees  Tax_Savings_Rupees  \n",
      "0                         3826.316345         2848.384223  \n",
      "1                         5581.671125         4350.526118  \n",
      "2                         7781.417235         3482.307298  \n",
      "3                         5944.282358         2720.649047  \n",
      "4                         3038.775647         1593.541600  \n",
      "...                               ...                 ...  \n",
      "9995                      7585.857601         2375.787833  \n",
      "9996                      3213.918449         3710.101245  \n",
      "9997                       166.705291         3363.033433  \n",
      "9998                      3536.840233         3686.888899  \n",
      "9999                      5228.225817         2234.068349  \n",
      "\n",
      "[10000 rows x 4 columns]\n"
     ]
    }
   ],
   "source": [
    "print(dataset)"
   ]
  },
  {
   "cell_type": "code",
   "execution_count": 9,
   "id": "62867fd5",
   "metadata": {},
   "outputs": [
    {
     "name": "stdout",
     "output_type": "stream",
     "text": [
      "\n",
      "Dataset saved. Click the link below to download:\n",
      "[Download Dataset](tax_optimization_dataset.csv)\n"
     ]
    }
   ],
   "source": [
    "dataset.to_csv('tax_optimization_dataset.csv', index=False)\n",
    "print(\"\\nDataset saved. Click the link below to download:\")\n",
    "print(\"[Download Dataset](tax_optimization_dataset.csv)\")"
   ]
  },
  {
   "cell_type": "code",
   "execution_count": null,
   "id": "fb699923",
   "metadata": {},
   "outputs": [],
   "source": []
  }
 ],
 "metadata": {
  "kernelspec": {
   "display_name": "Python 3 (ipykernel)",
   "language": "python",
   "name": "python3"
  },
  "language_info": {
   "codemirror_mode": {
    "name": "ipython",
    "version": 3
   },
   "file_extension": ".py",
   "mimetype": "text/x-python",
   "name": "python",
   "nbconvert_exporter": "python",
   "pygments_lexer": "ipython3",
   "version": "3.9.13"
  }
 },
 "nbformat": 4,
 "nbformat_minor": 5
}
